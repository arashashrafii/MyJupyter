{
  "nbformat": 4,
  "nbformat_minor": 0,
  "metadata": {
    "colab": {
      "provenance": [],
      "authorship_tag": "ABX9TyOzt1be1Fh2cBITEVSjLnrD",
      "include_colab_link": true
    },
    "kernelspec": {
      "name": "python3",
      "display_name": "Python 3"
    },
    "language_info": {
      "name": "python"
    }
  },
  "cells": [
    {
      "cell_type": "markdown",
      "metadata": {
        "id": "view-in-github",
        "colab_type": "text"
      },
      "source": [
        "<a href=\"https://colab.research.google.com/github/arashashrafii/MyJupyter/blob/main/DataScienceEcosystem.ipynb\" target=\"_parent\"><img src=\"https://colab.research.google.com/assets/colab-badge.svg\" alt=\"Open In Colab\"/></a>"
      ]
    },
    {
      "cell_type": "markdown",
      "source": [
        "# Data Science Tools and Ecosystem"
      ],
      "metadata": {
        "id": "E93FhshCttFO"
      }
    },
    {
      "cell_type": "markdown",
      "source": [
        "In this notebook, Data Science Tools and Ecosystem are summarized.\n"
      ],
      "metadata": {
        "id": "7depQDHMNnNG"
      }
    },
    {
      "cell_type": "markdown",
      "source": [
        "**Objectives:**\n",
        "*\tCreate headings, and add text in bold in Markdown\n",
        "*\tInsert ordered and unordered list using Markdown\n",
        "*\tCreate Tables in Markdown\n",
        "*\tDemonstrate your proficiency in using Markdown in Jupyter notebooks\n"
      ],
      "metadata": {
        "id": "N7rQOF07EUm4"
      }
    },
    {
      "cell_type": "markdown",
      "source": [
        "\n",
        "Some of the popular languages that Data Scientists use are:\n",
        "1.   python\n",
        "2.   R\n",
        "3.   JAVA\n",
        "4.   SCALA\n",
        "5.   JULIA"
      ],
      "metadata": {
        "id": "uNrwiRNPEkAl"
      }
    },
    {
      "cell_type": "markdown",
      "source": [
        "\n",
        "\n",
        "Some of the commonly used libraries used by Data Scientists include:\n",
        "1.  NumPy\n",
        "2.  TensorFlow\n",
        "3.  SciPy\n",
        "4.  Pandas\n",
        "5.  Matplotlib"
      ],
      "metadata": {
        "id": "mMEZjJuiEqGz"
      }
    },
    {
      "cell_type": "markdown",
      "source": [
        "| Data Science Tools |\n",
        "| ------ |   \n",
        "|  RStudio  |\n",
        "| Apache Spark  |\n",
        "| Apache Hadoop |\n",
        "| TensorFlow  |"
      ],
      "metadata": {
        "id": "p4CcpSuQEuCO"
      }
    },
    {
      "cell_type": "markdown",
      "source": [
        "### Below are a few examples of evaluating arithmetic expressions in Python."
      ],
      "metadata": {
        "id": "vwGmPn3D-1Fd"
      }
    },
    {
      "cell_type": "code",
      "source": [
        "(3*4)+5\n",
        "#This a simple arithmetic expression to mutiply then add integers"
      ],
      "metadata": {
        "colab": {
          "base_uri": "https://localhost:8080/"
        },
        "id": "7kcRQHwT_75K",
        "outputId": "15bc2b05-d5e5-4474-9b95-177923165f9f"
      },
      "execution_count": null,
      "outputs": [
        {
          "output_type": "execute_result",
          "data": {
            "text/plain": [
              "17"
            ]
          },
          "metadata": {},
          "execution_count": 4
        }
      ]
    },
    {
      "cell_type": "code",
      "source": [
        "# This will convert 200 minutes to hours by diving by 60\n",
        "200 / 60"
      ],
      "metadata": {
        "colab": {
          "base_uri": "https://localhost:8080/"
        },
        "id": "zd0fLt1nCOj-",
        "outputId": "23acdc4e-433f-4218-e1be-a62db314247c"
      },
      "execution_count": null,
      "outputs": [
        {
          "output_type": "execute_result",
          "data": {
            "text/plain": [
              "3.3333333333333335"
            ]
          },
          "metadata": {},
          "execution_count": 6
        }
      ]
    },
    {
      "cell_type": "markdown",
      "source": [
        "## Author\n",
        "Arash Ashrafi"
      ],
      "metadata": {
        "id": "P1tNk2LROVNn"
      }
    }
  ]
}